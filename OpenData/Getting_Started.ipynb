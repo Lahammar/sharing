{
 "cells": [
  {
   "cell_type": "markdown",
   "id": "1f3015a0",
   "metadata": {},
   "source": [
    "# Föregående video\n",
    "\n",
    "# Nästa video"
   ]
  },
  {
   "cell_type": "markdown",
   "id": "1ff5d0f9",
   "metadata": {},
   "source": [
    "### Webbsida\n",
    "\n",
    "### opendata-education     .github.io\n",
    "\n",
    "### avoin-data-apua   @cern.ch"
   ]
  },
  {
   "cell_type": "code",
   "execution_count": null,
   "id": "64e9710a",
   "metadata": {},
   "outputs": [],
   "source": [
    "\n",
    "\n",
    "\n",
    "\n",
    "\n",
    "\n",
    "\n",
    "\n",
    "\n"
   ]
  }
 ],
 "metadata": {
  "kernelspec": {
   "display_name": "Python 3",
   "language": "python",
   "name": "python3"
  },
  "language_info": {
   "codemirror_mode": {
    "name": "ipython",
    "version": 3
   },
   "file_extension": ".py",
   "mimetype": "text/x-python",
   "name": "python",
   "nbconvert_exporter": "python",
   "pygments_lexer": "ipython3",
   "version": "3.8.8"
  }
 },
 "nbformat": 4,
 "nbformat_minor": 5
}
