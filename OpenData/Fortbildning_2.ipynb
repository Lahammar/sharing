{
 "cells": [
  {
   "cell_type": "markdown",
   "id": "6e225830",
   "metadata": {},
   "source": [
    "# OpenData: Fortbildning session 2 - Fildelning och problemlösning"
   ]
  },
  {
   "cell_type": "markdown",
   "id": "8f0ad01c",
   "metadata": {},
   "source": [
    "## 1 - Github och MyBinder [(video)](https://youtu.be/Mu8UqQhNc0M)"
   ]
  },
  {
   "cell_type": "markdown",
   "id": "8bb9f579",
   "metadata": {},
   "source": [
    "### 1.1 GitHub\n",
    "- Vad är GitHub, och vilka möjligheter finns?\n",
    "- Skapa användarkonto"
   ]
  },
  {
   "cell_type": "markdown",
   "id": "b5dfd10b",
   "metadata": {},
   "source": [
    "### 1.2 Fildelning\n",
    "- Push/pull requests\n",
    "- GitHub Desktop"
   ]
  },
  {
   "cell_type": "markdown",
   "id": "e07b0917",
   "metadata": {},
   "source": [
    "### 1.3 MyBinder\n",
    "- Funktion\n",
    "- Skapa Binder"
   ]
  },
  {
   "cell_type": "markdown",
   "id": "a9c30685",
   "metadata": {},
   "source": [
    "## 2 - Problemlösning [(video)](https://youtu.be/oBo8-e-F0cw)"
   ]
  },
  {
   "cell_type": "markdown",
   "id": "68d90105",
   "metadata": {},
   "source": [
    "### 2.1 Errors\n",
    "- Okörda celler\n",
    "- Installera paket\n",
    "- Vanliga tecken/syntaxfel"
   ]
  },
  {
   "cell_type": "markdown",
   "id": "cdef320f",
   "metadata": {},
   "source": [
    "### 2.2 Kernel\n",
    "- Vad är Kernel?\n",
    "- Kernel reset"
   ]
  },
  {
   "cell_type": "markdown",
   "id": "5113547e",
   "metadata": {},
   "source": [
    "### 2.3 CSV-problem\n",
    "- Separator\n",
    "- Header\n",
    "- UTF-8\n",
    "- Exempel från THL"
   ]
  }
 ],
 "metadata": {
  "kernelspec": {
   "display_name": "Python 3",
   "language": "python",
   "name": "python3"
  },
  "language_info": {
   "codemirror_mode": {
    "name": "ipython",
    "version": 3
   },
   "file_extension": ".py",
   "mimetype": "text/x-python",
   "name": "python",
   "nbconvert_exporter": "python",
   "pygments_lexer": "ipython3",
   "version": "3.8.10"
  }
 },
 "nbformat": 4,
 "nbformat_minor": 5
}
